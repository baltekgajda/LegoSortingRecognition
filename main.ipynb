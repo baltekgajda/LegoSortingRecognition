{
  "nbformat": 4,
  "nbformat_minor": 0,
  "metadata": {
    "colab": {
      "name": "main.ipynb",
      "version": "0.3.2",
      "provenance": []
    },
    "language_info": {
      "codemirror_mode": {
        "name": "ipython",
        "version": 3
      },
      "file_extension": ".py",
      "mimetype": "text/x-python",
      "name": "python",
      "nbconvert_exporter": "python",
      "pygments_lexer": "ipython3",
      "version": "3.7.3"
    },
    "kernelspec": {
      "name": "python3",
      "display_name": "Python 3"
    },
    "accelerator": "GPU"
  },
  "cells": [
    {
      "cell_type": "code",
      "metadata": {
        "id": "pr2oN5j7-vnq",
        "colab_type": "code",
        "colab": {
          "base_uri": "https://localhost:8080/",
          "height": 258
        },
        "outputId": "bcdb53e1-6a93-43dc-c8c8-0220bd234352"
      },
      "source": [
        "# Install newer version of Pytorch\n",
        "!pip3 install https://download.pytorch.org/whl/cu100/torch-1.1.0-cp36-cp36m-linux_x86_64.whl\n",
        "!pip3 install https://download.pytorch.org/whl/cu100/torchvision-0.3.0-cp36-cp36m-linux_x86_64.whl\n",
        "\n",
        "# Cloning ONLY colab-integration branch\n",
        "from getpass import getpass\n",
        "import os\n",
        "\n",
        "user = getpass('Github user')\n",
        "password = getpass('Githyb password')\n",
        "os.environ['GITHUB_AUTH'] = user + ':' + password\n",
        "!git clone -b colab-integration --single-branch \"https://$GITHUB_AUTH@github.com/baltekgajda/LegoSortingRecognition.git\"\n",
        "\n",
        "# Navigate to project folder\n",
        "os.chdir(\"./LegoSortingRecognition\")\n",
        "\n",
        "# Create dir for models\n",
        "!cd LegoSortingRecognition\n",
        "!mkdir models"
      ],
      "execution_count": 3,
      "outputs": [
        {
          "output_type": "stream",
          "text": [
            "Requirement already satisfied: torch==1.1.0 from https://download.pytorch.org/whl/cu100/torch-1.1.0-cp36-cp36m-linux_x86_64.whl in /usr/local/lib/python3.6/dist-packages (1.1.0)\n",
            "Requirement already satisfied: numpy in /usr/local/lib/python3.6/dist-packages (from torch==1.1.0) (1.16.4)\n",
            "Requirement already satisfied: torchvision==0.3.0 from https://download.pytorch.org/whl/cu100/torchvision-0.3.0-cp36-cp36m-linux_x86_64.whl in /usr/local/lib/python3.6/dist-packages (0.3.0)\n",
            "Requirement already satisfied: six in /usr/local/lib/python3.6/dist-packages (from torchvision==0.3.0) (1.12.0)\n",
            "Requirement already satisfied: numpy in /usr/local/lib/python3.6/dist-packages (from torchvision==0.3.0) (1.16.4)\n",
            "Requirement already satisfied: torch>=1.1.0 in /usr/local/lib/python3.6/dist-packages (from torchvision==0.3.0) (1.1.0)\n",
            "Requirement already satisfied: pillow>=4.1.1 in /usr/local/lib/python3.6/dist-packages (from torchvision==0.3.0) (4.3.0)\n",
            "Requirement already satisfied: olefile in /usr/local/lib/python3.6/dist-packages (from pillow>=4.1.1->torchvision==0.3.0) (0.46)\n",
            "Github user··········\n",
            "Githyb password··········\n",
            "fatal: destination path 'LegoSortingRecognition' already exists and is not an empty directory.\n",
            "/bin/bash: line 0: cd: LegoSortingRecognition: No such file or directory\n",
            "mkdir: cannot create directory ‘models’: File exists\n"
          ],
          "name": "stdout"
        }
      ]
    },
    {
      "cell_type": "code",
      "metadata": {
        "id": "bzrhtQ49-vns",
        "colab_type": "code",
        "colab": {}
      },
      "source": [
        "# Import necessary libraries\n",
        "from __future__ import print_function\n",
        "from __future__ import division\n",
        "from google.colab import drive\n",
        "import torch\n",
        "import torch.nn as nn\n",
        "import torch.optim as optim\n",
        "import utils\n",
        "\n",
        "from data_loader import load_data\n",
        "from feature_extraction import initialize_model, train_model\n",
        "import VGGFactory"
      ],
      "execution_count": 0,
      "outputs": []
    },
    {
      "cell_type": "code",
      "metadata": {
        "id": "4UVRh8J0-vn1",
        "colab_type": "code",
        "colab": {
          "base_uri": "https://localhost:8080/",
          "height": 122
        },
        "outputId": "3f03cc3b-9591-4e4a-c683-44f67db64509"
      },
      "source": [
        "# Mount Google Drive to access data\n",
        "drive.mount('/content/drive')"
      ],
      "execution_count": 4,
      "outputs": [
        {
          "output_type": "stream",
          "text": [
            "Go to this URL in a browser: https://accounts.google.com/o/oauth2/auth?client_id=947318989803-6bn6qk8qdgf4n4g3pfee6491hc0brc4i.apps.googleusercontent.com&redirect_uri=urn%3Aietf%3Awg%3Aoauth%3A2.0%3Aoob&scope=email%20https%3A%2F%2Fwww.googleapis.com%2Fauth%2Fdocs.test%20https%3A%2F%2Fwww.googleapis.com%2Fauth%2Fdrive%20https%3A%2F%2Fwww.googleapis.com%2Fauth%2Fdrive.photos.readonly%20https%3A%2F%2Fwww.googleapis.com%2Fauth%2Fpeopleapi.readonly&response_type=code\n",
            "\n",
            "Enter your authorization code:\n",
            "··········\n",
            "Mounted at /content/drive\n"
          ],
          "name": "stdout"
        }
      ]
    },
    {
      "cell_type": "code",
      "metadata": {
        "id": "heTBVXK8MNbJ",
        "colab_type": "code",
        "colab": {}
      },
      "source": [
        "def get_params_to_update(model):\n",
        "  params_to_update = model.parameters()\n",
        "  params_to_update = []\n",
        "  for name, param in model.named_parameters():\n",
        "    if param.requires_grad:\n",
        "        params_to_update.append(param)\n",
        "        \n",
        "  return params_to_update"
      ],
      "execution_count": 0,
      "outputs": []
    },
    {
      "cell_type": "code",
      "metadata": {
        "id": "xeFTbsq6A3kD",
        "colab_type": "code",
        "colab": {}
      },
      "source": [
        "def train_and_evaluate_classifier_only(dataloaders_dicts, device, num_of_classes=20, num_of_epochs=10):\n",
        "  model = VGGFactory.create_model(1, num_of_classes)\n",
        "  optimizer = optim.SGD(get_params_to_update(model), lr=0.001, momentum=0.9)\n",
        "  criterion = nn.CrossEntropyLoss()\n",
        "  model_ft, hist = train_model(model, dataloaders_dict, criterion, optimizer, device, num_epochs=num_of_epochs)\n",
        "  utils.save_model(model_ft, \"vgg-classifier-only\")\n",
        "  return (model_ft, hist)"
      ],
      "execution_count": 0,
      "outputs": []
    },
    {
      "cell_type": "code",
      "metadata": {
        "id": "aHtXpphgDH5v",
        "colab_type": "code",
        "colab": {
          "base_uri": "https://localhost:8080/",
          "height": 1258
        },
        "outputId": "51b94674-d49e-4e43-f914-8940b03ecd92"
      },
      "source": [
        "NUM_OF_CLASSES = 20\n",
        "NUM_OF_EPOCHS = 1\n",
        "INPUT_SIZE = 224\n",
        "DATA_DIR = '/content/drive/My Drive/Studia/SNR/lego/'\n",
        "\n",
        "print(\"Initializing Datasets and Dataloaders...\")\n",
        "dataloaders_dict = load_data(DATA_DIR, INPUT_SIZE, batch_size=32, num_workers=4)\n",
        "\n",
        "\n",
        "if (torch.cuda.is_available() == False):\n",
        "  raise RuntimeError(\"GPU is not available!\")   \n",
        "device = torch.device(\"cuda:0\")\n",
        "\n",
        "\n",
        "torch.cuda.current_device()\n",
        "train_and_evaluate_classifier_only(dataloaders_dict, device, num_of_classes=NUM_OF_CLASSES, num_of_epochs=NUM_OF_EPOCHS)"
      ],
      "execution_count": 8,
      "outputs": [
        {
          "output_type": "stream",
          "text": [
            "Initializing Datasets and Dataloaders...\n",
            "Epoch 0/0\n",
            "----------\n",
            "train Loss: 2.8984 Acc: 0.1493\n",
            "Param:  weight , values:  Parameter containing:\n",
            "tensor([[ 0.0047, -0.0013, -0.0022,  ...,  0.0128, -0.0163,  0.0029],\n",
            "        [ 0.0109, -0.0017, -0.0046,  ..., -0.0078,  0.0150, -0.0019],\n",
            "        [ 0.0101, -0.0091, -0.0098,  ...,  0.0086, -0.0004, -0.0104],\n",
            "        ...,\n",
            "        [ 0.0125, -0.0088, -0.0058,  ...,  0.0130,  0.0136, -0.0083],\n",
            "        [ 0.0120,  0.0025,  0.0043,  ...,  0.0133,  0.0068,  0.0102],\n",
            "        [ 0.0124,  0.0120, -0.0071,  ..., -0.0041,  0.0068, -0.0129]],\n",
            "       device='cuda:0', requires_grad=True)\n",
            "Param:  bias , values:  Parameter containing:\n",
            "tensor([ 1.1143e-02, -6.8054e-03, -1.1097e-02,  9.9605e-03, -3.2945e-03,\n",
            "         2.0542e-02,  2.6927e-03,  1.8156e-03,  1.7889e-03,  2.7183e-02,\n",
            "        -3.6035e-03,  1.1130e-02,  9.2192e-03,  6.0214e-04, -6.2602e-03,\n",
            "         6.1083e-03, -9.1486e-05,  1.5477e-03, -2.4911e-03, -1.8919e-02],\n",
            "       device='cuda:0', requires_grad=True)\n",
            "val Loss: 2.7456 Acc: 0.2879\n",
            "Param:  weight , values:  Parameter containing:\n",
            "tensor([[ 0.0047, -0.0013, -0.0022,  ...,  0.0128, -0.0163,  0.0029],\n",
            "        [ 0.0109, -0.0017, -0.0046,  ..., -0.0078,  0.0150, -0.0019],\n",
            "        [ 0.0101, -0.0091, -0.0098,  ...,  0.0086, -0.0004, -0.0104],\n",
            "        ...,\n",
            "        [ 0.0125, -0.0088, -0.0058,  ...,  0.0130,  0.0136, -0.0083],\n",
            "        [ 0.0120,  0.0025,  0.0043,  ...,  0.0133,  0.0068,  0.0102],\n",
            "        [ 0.0124,  0.0120, -0.0071,  ..., -0.0041,  0.0068, -0.0129]],\n",
            "       device='cuda:0', requires_grad=True)\n",
            "Param:  bias , values:  Parameter containing:\n",
            "tensor([ 1.1143e-02, -6.8054e-03, -1.1097e-02,  9.9605e-03, -3.2945e-03,\n",
            "         2.0542e-02,  2.6927e-03,  1.8156e-03,  1.7889e-03,  2.7183e-02,\n",
            "        -3.6035e-03,  1.1130e-02,  9.2192e-03,  6.0214e-04, -6.2602e-03,\n",
            "         6.1083e-03, -9.1486e-05,  1.5477e-03, -2.4911e-03, -1.8919e-02],\n",
            "       device='cuda:0', requires_grad=True)\n",
            "\n",
            "Training complete in 0m 37s\n",
            "Best val Acc: 0.287879\n"
          ],
          "name": "stdout"
        },
        {
          "output_type": "execute_result",
          "data": {
            "text/plain": [
              "(VGG(\n",
              "   (features): Sequential(\n",
              "     (0): Conv2d(3, 64, kernel_size=(3, 3), stride=(1, 1), padding=(1, 1))\n",
              "     (1): ReLU(inplace)\n",
              "     (2): MaxPool2d(kernel_size=2, stride=2, padding=0, dilation=1, ceil_mode=False)\n",
              "     (3): Conv2d(64, 128, kernel_size=(3, 3), stride=(1, 1), padding=(1, 1))\n",
              "     (4): ReLU(inplace)\n",
              "     (5): MaxPool2d(kernel_size=2, stride=2, padding=0, dilation=1, ceil_mode=False)\n",
              "     (6): Conv2d(128, 256, kernel_size=(3, 3), stride=(1, 1), padding=(1, 1))\n",
              "     (7): ReLU(inplace)\n",
              "     (8): Conv2d(256, 256, kernel_size=(3, 3), stride=(1, 1), padding=(1, 1))\n",
              "     (9): ReLU(inplace)\n",
              "     (10): MaxPool2d(kernel_size=2, stride=2, padding=0, dilation=1, ceil_mode=False)\n",
              "     (11): Conv2d(256, 512, kernel_size=(3, 3), stride=(1, 1), padding=(1, 1))\n",
              "     (12): ReLU(inplace)\n",
              "     (13): Conv2d(512, 512, kernel_size=(3, 3), stride=(1, 1), padding=(1, 1))\n",
              "     (14): ReLU(inplace)\n",
              "     (15): MaxPool2d(kernel_size=2, stride=2, padding=0, dilation=1, ceil_mode=False)\n",
              "     (16): Conv2d(512, 512, kernel_size=(3, 3), stride=(1, 1), padding=(1, 1))\n",
              "     (17): ReLU(inplace)\n",
              "     (18): Conv2d(512, 512, kernel_size=(3, 3), stride=(1, 1), padding=(1, 1))\n",
              "     (19): ReLU(inplace)\n",
              "     (20): MaxPool2d(kernel_size=2, stride=2, padding=0, dilation=1, ceil_mode=False)\n",
              "   )\n",
              "   (avgpool): AdaptiveAvgPool2d(output_size=(7, 7))\n",
              "   (classifier): Sequential(\n",
              "     (0): Linear(in_features=25088, out_features=4096, bias=True)\n",
              "     (1): ReLU(inplace)\n",
              "     (2): Dropout(p=0.5)\n",
              "     (3): Linear(in_features=4096, out_features=4096, bias=True)\n",
              "     (4): ReLU(inplace)\n",
              "     (5): Dropout(p=0.5)\n",
              "     (6): Linear(in_features=4096, out_features=20, bias=True)\n",
              "   )\n",
              " ), [tensor(0.2879, device='cuda:0', dtype=torch.float64)])"
            ]
          },
          "metadata": {
            "tags": []
          },
          "execution_count": 8
        }
      ]
    },
    {
      "cell_type": "code",
      "metadata": {
        "id": "-KJBPrjG-vn3",
        "colab_type": "code",
        "colab": {}
      },
      "source": [
        "# num_classes = 20\n",
        "# num_of_epochs = 50\n",
        "# input_size = 224\n",
        "\n",
        "# model = VGGFactory.create_model(1, num_classes)\n",
        "# for name, param in model.named_parameters():\n",
        "#     if param.requires_grad:\n",
        "#         print(name)\n",
        "\n",
        "# print()\n",
        "\n",
        "# simple_model = VGGFactory.simplify_model(model)\n",
        "# for name, param in simple_model.named_parameters():\n",
        "#     if param.requires_grad:\n",
        "#         print(name)\n",
        "\n",
        "# print(\"Initializing Datasets and Dataloaders...\")\n",
        "# dataloaders_dict = load_data(data_dir, input_size, 0.3, 0.1, 0.1)\n",
        "\n",
        "# params_to_update = model.parameters()\n",
        "# print(\"Params to learn:\")\n",
        "# params_to_update = []\n",
        "# for name, param in model.named_parameters():\n",
        "#     if param.requires_grad:\n",
        "#         params_to_update.append(param)\n",
        "#         print(\"\\t\", name)\n",
        "\n",
        "# optimizer_ft = optim.SGD(params_to_update, lr=0.001, momentum=0.9)\n",
        "\n",
        "# # Setup the loss fxn\n",
        "# criterion = nn.CrossEntropyLoss()\n",
        "\n",
        "# # Detect if we have a GPU available\n",
        "# device = torch.device(\"cuda:0\" if torch.cuda.is_available() else \"cpu\")\n",
        "\n",
        "# # Necessary to run script on Windows\n",
        "# torch.cuda.current_device()\n",
        "\n",
        "# # Train and evaluate\n",
        "# model_ft, hist = train_model(model, dataloaders_dict, criterion, optimizer_ft, device, num_epochs=num_of_epochs)\n",
        "\n",
        "# # Save trained model\n",
        "# utils.save_model(model_ft, \"./models\")\n"
      ],
      "execution_count": 0,
      "outputs": []
    }
  ]
}