{
  "nbformat": 4,
  "nbformat_minor": 0,
  "metadata": {
    "colab": {
      "name": "main.ipynb",
      "version": "0.3.2",
      "provenance": []
    },
    "language_info": {
      "codemirror_mode": {
        "name": "ipython",
        "version": 3
      },
      "file_extension": ".py",
      "mimetype": "text/x-python",
      "name": "python",
      "nbconvert_exporter": "python",
      "pygments_lexer": "ipython3",
      "version": "3.7.3"
    },
    "kernelspec": {
      "name": "python3",
      "display_name": "Python 3"
    },
    "accelerator": "GPU"
  },
  "cells": [
    {
      "cell_type": "code",
      "metadata": {
        "id": "pr2oN5j7-vnq",
        "colab_type": "code",
        "outputId": "1e662a7a-de24-47e8-fd38-95e0f95b5f53",
        "colab": {
          "base_uri": "https://localhost:8080/",
          "height": 309
        }
      },
      "source": [
        "# Install newer version of Pytorch\n",
        "!pip3 install https://download.pytorch.org/whl/cu100/torch-1.1.0-cp36-cp36m-linux_x86_64.whl\n",
        "!pip3 install https://download.pytorch.org/whl/cu100/torchvision-0.3.0-cp36-cp36m-linux_x86_64.whl\n",
        "\n",
        "# Cloning ONLY colab-integration branch\n",
        "from getpass import getpass\n",
        "import os\n",
        "\n",
        "user = getpass('Github user')\n",
        "password = getpass('Githyb password')\n",
        "os.environ['GITHUB_AUTH'] = user + ':' + password\n",
        "!git clone -b colab-integration --single-branch \"https://$GITHUB_AUTH@github.com/baltekgajda/LegoSortingRecognition.git\"\n",
        "\n",
        "# Navigate to project folder\n",
        "os.chdir(\"./LegoSortingRecognition\")\n",
        "\n",
        "# Create dir for models\n",
        "!mkdir models"
      ],
      "execution_count": 6,
      "outputs": [
        {
          "output_type": "stream",
          "text": [
            "Requirement already satisfied: torch==1.1.0 from https://download.pytorch.org/whl/cu100/torch-1.1.0-cp36-cp36m-linux_x86_64.whl in /usr/local/lib/python3.6/dist-packages (1.1.0)\n",
            "Requirement already satisfied: numpy in /usr/local/lib/python3.6/dist-packages (from torch==1.1.0) (1.16.4)\n",
            "Requirement already satisfied: torchvision==0.3.0 from https://download.pytorch.org/whl/cu100/torchvision-0.3.0-cp36-cp36m-linux_x86_64.whl in /usr/local/lib/python3.6/dist-packages (0.3.0)\n",
            "Requirement already satisfied: torch>=1.1.0 in /usr/local/lib/python3.6/dist-packages (from torchvision==0.3.0) (1.1.0)\n",
            "Requirement already satisfied: numpy in /usr/local/lib/python3.6/dist-packages (from torchvision==0.3.0) (1.16.4)\n",
            "Requirement already satisfied: pillow>=4.1.1 in /usr/local/lib/python3.6/dist-packages (from torchvision==0.3.0) (4.3.0)\n",
            "Requirement already satisfied: six in /usr/local/lib/python3.6/dist-packages (from torchvision==0.3.0) (1.12.0)\n",
            "Requirement already satisfied: olefile in /usr/local/lib/python3.6/dist-packages (from pillow>=4.1.1->torchvision==0.3.0) (0.46)\n",
            "Github user··········\n",
            "Githyb password··········\n",
            "Cloning into 'LegoSortingRecognition'...\n",
            "remote: Enumerating objects: 78, done.\u001b[K\n",
            "remote: Counting objects: 100% (78/78), done.\u001b[K\n",
            "remote: Compressing objects: 100% (54/54), done.\u001b[K\n",
            "remote: Total 78 (delta 34), reused 56 (delta 18), pack-reused 0\u001b[K\n",
            "Unpacking objects: 100% (78/78), done.\n"
          ],
          "name": "stdout"
        }
      ]
    },
    {
      "cell_type": "code",
      "metadata": {
        "id": "bzrhtQ49-vns",
        "colab_type": "code",
        "colab": {}
      },
      "source": [
        "# Import necessary libraries\n",
        "from __future__ import print_function\n",
        "from __future__ import division\n",
        "from google.colab import drive\n",
        "from torchsummary import summary\n",
        "import torch\n",
        "import torch.nn as nn\n",
        "import torch.optim as optim\n",
        "import utils\n",
        "\n",
        "from data_loader import load_data\n",
        "from feature_extraction import initialize_model, train_model\n",
        "import VGGFactory"
      ],
      "execution_count": 0,
      "outputs": []
    },
    {
      "cell_type": "code",
      "metadata": {
        "id": "4UVRh8J0-vn1",
        "colab_type": "code",
        "outputId": "928391d6-4d30-4080-fd14-5f721e5cf64c",
        "colab": {
          "base_uri": "https://localhost:8080/",
          "height": 54
        }
      },
      "source": [
        "# Mount Google Drive to access data\n",
        "drive.mount('/content/drive')"
      ],
      "execution_count": 8,
      "outputs": [
        {
          "output_type": "stream",
          "text": [
            "Drive already mounted at /content/drive; to attempt to forcibly remount, call drive.mount(\"/content/drive\", force_remount=True).\n"
          ],
          "name": "stdout"
        }
      ]
    },
    {
      "cell_type": "code",
      "metadata": {
        "id": "heTBVXK8MNbJ",
        "colab_type": "code",
        "colab": {}
      },
      "source": [
        "def get_params_to_update(model):\n",
        "  params_to_update = model.parameters()\n",
        "  params_to_update = []\n",
        "  for name, param in model.named_parameters():\n",
        "    if param.requires_grad:\n",
        "        params_to_update.append(param)\n",
        "        \n",
        "  return params_to_update"
      ],
      "execution_count": 0,
      "outputs": []
    },
    {
      "cell_type": "code",
      "metadata": {
        "id": "xeFTbsq6A3kD",
        "colab_type": "code",
        "colab": {}
      },
      "source": [
        "def train_and_evaluate_classifier_only(dataloaders_dicts, device, num_of_classes=20, num_of_epochs=10):\n",
        "  model = VGGFactory.create_model(1, num_of_classes)\n",
        "  optimizer = optim.SGD(get_params_to_update(model), lr=0.001, momentum=0.9)\n",
        "  criterion = nn.CrossEntropyLoss()\n",
        "  model_ft, hist = train_model(model, dataloaders_dict, criterion, optimizer, device, num_epochs=num_of_epochs)\n",
        "  utils.save_model(model_ft, \"vgg-classifier-only\")\n",
        "  return (model_ft, hist)"
      ],
      "execution_count": 0,
      "outputs": []
    },
    {
      "cell_type": "code",
      "metadata": {
        "id": "mOHhpvGQURUP",
        "colab_type": "code",
        "colab": {}
      },
      "source": [
        "def train_and_evaluate_last_conv(dataloaders_dicts, device, num_of_classes=20, num_of_epochs=10):\n",
        "  model = VGGFactory.create_model(2, num_of_classes)\n",
        "  optimizer = optim.SGD(get_params_to_update(model), lr=0.001, momentum=0.9)\n",
        "  criterion = nn.CrossEntropyLoss()\n",
        "  model_ft, hist = train_model(model, dataloaders_dict, criterion, optimizer, device, num_epochs=num_of_epochs)\n",
        "  utils.save_model(model_ft, \"vgg-last_conv\")\n",
        "  return (model_ft, hist)"
      ],
      "execution_count": 0,
      "outputs": []
    },
    {
      "cell_type": "code",
      "metadata": {
        "id": "sbaIMIQFemQr",
        "colab_type": "code",
        "colab": {}
      },
      "source": [
        "def train_and_evaluate_full_net(dataloaders_dicts, device, num_of_classes=20, num_of_epochs=10):\n",
        "  model = VGGFactory.create_model(3, num_of_classes)\n",
        "  \n",
        "  optimizer = optim.SGD(get_params_to_update(model), lr=0.001, momentum=0.9)\n",
        "  criterion = nn.CrossEntropyLoss()\n",
        "  model_ft, hist = train_model(model, dataloaders_dict, criterion, optimizer, device, num_epochs=num_of_epochs)\n",
        "  utils.save_model(model_ft, \"vgg-full-net\")\n",
        "  return (model_ft, hist)"
      ],
      "execution_count": 0,
      "outputs": []
    },
    {
      "cell_type": "code",
      "metadata": {
        "id": "WZG_iKbU2MtM",
        "colab_type": "code",
        "colab": {}
      },
      "source": [
        "def train_and_evaluate_simplified_net(model, dataloaders_dicts, device, num_of_classes=20, num_of_epochs=10):\n",
        "  simpler_model = VGGFactory.simplify_model(model)\n",
        "  \n",
        "  optimizer = optim.SGD(get_params_to_update(model), lr=0.001, momentum=0.9)\n",
        "  criterion = nn.CrossEntropyLoss()\n",
        "  model_ft, hist = train_model(model, dataloaders_dict, criterion, optimizer, device, num_epochs=num_of_epochs)\n",
        "  utils.save_model(model_ft, \"vgg-simplified\")\n",
        "  return (model_ft, hist)"
      ],
      "execution_count": 0,
      "outputs": []
    },
    {
      "cell_type": "code",
      "metadata": {
        "id": "aHtXpphgDH5v",
        "colab_type": "code",
        "outputId": "e65bf5df-c467-49e9-b752-ad90e79dbb9c",
        "colab": {
          "base_uri": "https://localhost:8080/",
          "height": 2584
        }
      },
      "source": [
        "NUM_OF_CLASSES = 20\n",
        "NUM_OF_EPOCHS = 1\n",
        "INPUT_SIZE = 224\n",
        "DATA_DIR = '/content/drive/My Drive/Studia/SNR/lego/'\n",
        "\n",
        "print(\"Initializing Datasets and Dataloaders...\")\n",
        "dataloaders_dict = load_data(DATA_DIR, INPUT_SIZE, batch_size=32, num_workers=4)\n",
        "\n",
        "\n",
        "if (torch.cuda.is_available() == False):\n",
        "  raise RuntimeError(\"GPU is not available!\")   \n",
        "device = torch.device(\"cuda:0\")\n",
        "\n",
        "torch.cuda.current_device()\n",
        "\n",
        "\n",
        "m_classifier, hist_classifier = train_and_evaluate_classifier_only(dataloaders_dict, device, num_of_classes=NUM_OF_CLASSES, num_of_epochs=NUM_OF_EPOCHS)\n",
        "m_last_conv, hist_last_conv = train_and_evaluate_last_conv(dataloaders_dict, device, num_of_classes=NUM_OF_CLASSES, num_of_epochs=NUM_OF_EPOCHS)\n",
        "m_on_full_net, hist_on_full_net = train_and_evaluate_full_net(dataloaders_dict, device, num_of_classes=NUM_OF_CLASSES, num_of_epochs=NUM_OF_EPOCHS)\n",
        "m_simplified, hist_simplified = m_train_and_evaluate_simplified_net(model_on_full_net, dataloaders_dict, device, num_of_classes=NUM_OF_CLASSES, num_of_epochs=NUM_OF_EPOCHS)"
      ],
      "execution_count": 16,
      "outputs": [
        {
          "output_type": "stream",
          "text": [
            "Initializing Datasets and Dataloaders...\n",
            "Epoch 0/0\n",
            "----------\n",
            "train Loss: 2.1584 Acc: 0.3462\n",
            "Param:  weight , values:  Parameter containing:\n",
            "tensor([[-1.9490e-03, -1.1519e-02,  7.8316e-03,  ...,  1.5645e-02,\n",
            "          9.4340e-03, -8.7332e-03],\n",
            "        [-1.3435e-02,  5.8485e-04,  1.5262e-02,  ..., -2.1201e-03,\n",
            "          6.3542e-03,  1.0188e-02],\n",
            "        [ 2.0899e-03, -1.0419e-02,  4.9655e-03,  ...,  6.0938e-03,\n",
            "          7.7213e-03, -4.6346e-03],\n",
            "        ...,\n",
            "        [-9.0351e-03,  1.2296e-02, -1.3158e-02,  ..., -1.1404e-02,\n",
            "         -9.6645e-03, -9.9509e-03],\n",
            "        [-4.5578e-03, -1.1931e-02,  4.9020e-03,  ..., -5.3374e-03,\n",
            "         -1.5376e-02,  1.2703e-02],\n",
            "        [-6.0301e-03, -5.0445e-04, -3.9816e-03,  ..., -7.1132e-05,\n",
            "          6.7944e-05, -6.4846e-03]], device='cuda:0', requires_grad=True)\n",
            "Param:  bias , values:  Parameter containing:\n",
            "tensor([ 0.0136, -0.0031, -0.0004,  0.0043,  0.0092, -0.0140, -0.0158,  0.0061,\n",
            "        -0.0091, -0.0078,  0.0017,  0.0124, -0.0138, -0.0100,  0.0050, -0.0120,\n",
            "         0.0101, -0.0035,  0.0012, -0.0072], device='cuda:0',\n",
            "       requires_grad=True)\n",
            "val Loss: 1.4410 Acc: 0.6017\n",
            "Param:  weight , values:  Parameter containing:\n",
            "tensor([[-1.9490e-03, -1.1519e-02,  7.8316e-03,  ...,  1.5645e-02,\n",
            "          9.4340e-03, -8.7332e-03],\n",
            "        [-1.3435e-02,  5.8485e-04,  1.5262e-02,  ..., -2.1201e-03,\n",
            "          6.3542e-03,  1.0188e-02],\n",
            "        [ 2.0899e-03, -1.0419e-02,  4.9655e-03,  ...,  6.0938e-03,\n",
            "          7.7213e-03, -4.6346e-03],\n",
            "        ...,\n",
            "        [-9.0351e-03,  1.2296e-02, -1.3158e-02,  ..., -1.1404e-02,\n",
            "         -9.6645e-03, -9.9509e-03],\n",
            "        [-4.5578e-03, -1.1931e-02,  4.9020e-03,  ..., -5.3374e-03,\n",
            "         -1.5376e-02,  1.2703e-02],\n",
            "        [-6.0301e-03, -5.0445e-04, -3.9816e-03,  ..., -7.1132e-05,\n",
            "          6.7944e-05, -6.4846e-03]], device='cuda:0', requires_grad=True)\n",
            "Param:  bias , values:  Parameter containing:\n",
            "tensor([ 0.0136, -0.0031, -0.0004,  0.0043,  0.0092, -0.0140, -0.0158,  0.0061,\n",
            "        -0.0091, -0.0078,  0.0017,  0.0124, -0.0138, -0.0100,  0.0050, -0.0120,\n",
            "         0.0101, -0.0035,  0.0012, -0.0072], device='cuda:0',\n",
            "       requires_grad=True)\n",
            "\n",
            "Training complete in 0m 38s\n",
            "Best val Acc: 0.601732\n",
            "Epoch 0/0\n",
            "----------\n",
            "train Loss: 2.0446 Acc: 0.3539\n",
            "Param:  weight , values:  Parameter containing:\n",
            "tensor([[-0.0139,  0.0015, -0.0074,  ..., -0.0072, -0.0049,  0.0067],\n",
            "        [-0.0046,  0.0067, -0.0115,  ..., -0.0016,  0.0111, -0.0058],\n",
            "        [-0.0110,  0.0080,  0.0014,  ...,  0.0023,  0.0147,  0.0068],\n",
            "        ...,\n",
            "        [ 0.0054, -0.0091,  0.0152,  ...,  0.0064,  0.0027, -0.0071],\n",
            "        [ 0.0034,  0.0159,  0.0039,  ..., -0.0013,  0.0171, -0.0022],\n",
            "        [-0.0026, -0.0106,  0.0039,  ...,  0.0130, -0.0072,  0.0134]],\n",
            "       device='cuda:0', requires_grad=True)\n",
            "Param:  bias , values:  Parameter containing:\n",
            "tensor([-0.0069, -0.0055, -0.0123, -0.0081,  0.0102,  0.0048, -0.0155, -0.0136,\n",
            "         0.0118,  0.0164,  0.0157, -0.0029, -0.0049,  0.0168,  0.0104,  0.0068,\n",
            "        -0.0098, -0.0010, -0.0100,  0.0094], device='cuda:0',\n",
            "       requires_grad=True)\n",
            "val Loss: 1.1909 Acc: 0.6515\n",
            "Param:  weight , values:  Parameter containing:\n",
            "tensor([[-0.0139,  0.0015, -0.0074,  ..., -0.0072, -0.0049,  0.0067],\n",
            "        [-0.0046,  0.0067, -0.0115,  ..., -0.0016,  0.0111, -0.0058],\n",
            "        [-0.0110,  0.0080,  0.0014,  ...,  0.0023,  0.0147,  0.0068],\n",
            "        ...,\n",
            "        [ 0.0054, -0.0091,  0.0152,  ...,  0.0064,  0.0027, -0.0071],\n",
            "        [ 0.0034,  0.0159,  0.0039,  ..., -0.0013,  0.0171, -0.0022],\n",
            "        [-0.0026, -0.0106,  0.0039,  ...,  0.0130, -0.0072,  0.0134]],\n",
            "       device='cuda:0', requires_grad=True)\n",
            "Param:  bias , values:  Parameter containing:\n",
            "tensor([-0.0069, -0.0055, -0.0123, -0.0081,  0.0102,  0.0048, -0.0155, -0.0136,\n",
            "         0.0118,  0.0164,  0.0157, -0.0029, -0.0049,  0.0168,  0.0104,  0.0068,\n",
            "        -0.0098, -0.0010, -0.0100,  0.0094], device='cuda:0',\n",
            "       requires_grad=True)\n",
            "\n",
            "Training complete in 0m 38s\n",
            "Best val Acc: 0.651515\n",
            "Epoch 0/0\n",
            "----------\n",
            "train Loss: 1.8355 Acc: 0.4189\n",
            "Param:  weight , values:  Parameter containing:\n",
            "tensor([[-0.0024,  0.0135,  0.0024,  ..., -0.0070, -0.0089, -0.0130],\n",
            "        [-0.0100,  0.0113, -0.0102,  ...,  0.0063, -0.0087,  0.0155],\n",
            "        [ 0.0147, -0.0130,  0.0007,  ...,  0.0089, -0.0044,  0.0072],\n",
            "        ...,\n",
            "        [ 0.0132, -0.0024,  0.0016,  ...,  0.0023,  0.0082,  0.0148],\n",
            "        [-0.0153,  0.0007,  0.0115,  ..., -0.0035, -0.0121,  0.0019],\n",
            "        [-0.0074, -0.0075,  0.0039,  ..., -0.0153,  0.0074, -0.0062]],\n",
            "       device='cuda:0', requires_grad=True)\n",
            "Param:  bias , values:  Parameter containing:\n",
            "tensor([-0.0003,  0.0039,  0.0081, -0.0121, -0.0120, -0.0134, -0.0119,  0.0010,\n",
            "        -0.0140,  0.0023,  0.0083,  0.0154,  0.0034, -0.0081,  0.0093, -0.0103,\n",
            "        -0.0064,  0.0071, -0.0072, -0.0062], device='cuda:0',\n",
            "       requires_grad=True)\n",
            "val Loss: 0.7771 Acc: 0.7413\n",
            "Param:  weight , values:  Parameter containing:\n",
            "tensor([[-0.0024,  0.0135,  0.0024,  ..., -0.0070, -0.0089, -0.0130],\n",
            "        [-0.0100,  0.0113, -0.0102,  ...,  0.0063, -0.0087,  0.0155],\n",
            "        [ 0.0147, -0.0130,  0.0007,  ...,  0.0089, -0.0044,  0.0072],\n",
            "        ...,\n",
            "        [ 0.0132, -0.0024,  0.0016,  ...,  0.0023,  0.0082,  0.0148],\n",
            "        [-0.0153,  0.0007,  0.0115,  ..., -0.0035, -0.0121,  0.0019],\n",
            "        [-0.0074, -0.0075,  0.0039,  ..., -0.0153,  0.0074, -0.0062]],\n",
            "       device='cuda:0', requires_grad=True)\n",
            "Param:  bias , values:  Parameter containing:\n",
            "tensor([-0.0003,  0.0039,  0.0081, -0.0121, -0.0120, -0.0134, -0.0119,  0.0010,\n",
            "        -0.0140,  0.0023,  0.0083,  0.0154,  0.0034, -0.0081,  0.0093, -0.0103,\n",
            "        -0.0064,  0.0071, -0.0072, -0.0062], device='cuda:0',\n",
            "       requires_grad=True)\n",
            "\n",
            "Training complete in 0m 42s\n",
            "Best val Acc: 0.741342\n"
          ],
          "name": "stdout"
        },
        {
          "output_type": "execute_result",
          "data": {
            "text/plain": [
              "(VGG(\n",
              "   (features): Sequential(\n",
              "     (0): Conv2d(3, 64, kernel_size=(3, 3), stride=(1, 1), padding=(1, 1))\n",
              "     (1): ReLU(inplace)\n",
              "     (2): MaxPool2d(kernel_size=2, stride=2, padding=0, dilation=1, ceil_mode=False)\n",
              "     (3): Conv2d(64, 128, kernel_size=(3, 3), stride=(1, 1), padding=(1, 1))\n",
              "     (4): ReLU(inplace)\n",
              "     (5): MaxPool2d(kernel_size=2, stride=2, padding=0, dilation=1, ceil_mode=False)\n",
              "     (6): Conv2d(128, 256, kernel_size=(3, 3), stride=(1, 1), padding=(1, 1))\n",
              "     (7): ReLU(inplace)\n",
              "     (8): Conv2d(256, 256, kernel_size=(3, 3), stride=(1, 1), padding=(1, 1))\n",
              "     (9): ReLU(inplace)\n",
              "     (10): MaxPool2d(kernel_size=2, stride=2, padding=0, dilation=1, ceil_mode=False)\n",
              "     (11): Conv2d(256, 512, kernel_size=(3, 3), stride=(1, 1), padding=(1, 1))\n",
              "     (12): ReLU(inplace)\n",
              "     (13): Conv2d(512, 512, kernel_size=(3, 3), stride=(1, 1), padding=(1, 1))\n",
              "     (14): ReLU(inplace)\n",
              "     (15): MaxPool2d(kernel_size=2, stride=2, padding=0, dilation=1, ceil_mode=False)\n",
              "     (16): Conv2d(512, 512, kernel_size=(3, 3), stride=(1, 1), padding=(1, 1))\n",
              "     (17): ReLU(inplace)\n",
              "     (18): Conv2d(512, 512, kernel_size=(3, 3), stride=(1, 1), padding=(1, 1))\n",
              "     (19): ReLU(inplace)\n",
              "     (20): MaxPool2d(kernel_size=2, stride=2, padding=0, dilation=1, ceil_mode=False)\n",
              "   )\n",
              "   (avgpool): AdaptiveAvgPool2d(output_size=(7, 7))\n",
              "   (classifier): Sequential(\n",
              "     (0): Linear(in_features=25088, out_features=4096, bias=True)\n",
              "     (1): ReLU(inplace)\n",
              "     (2): Dropout(p=0.5)\n",
              "     (3): Linear(in_features=4096, out_features=4096, bias=True)\n",
              "     (4): ReLU(inplace)\n",
              "     (5): Dropout(p=0.5)\n",
              "     (6): Linear(in_features=4096, out_features=20, bias=True)\n",
              "   )\n",
              " ), [tensor(0.7413, device='cuda:0', dtype=torch.float64)])"
            ]
          },
          "metadata": {
            "tags": []
          },
          "execution_count": 16
        }
      ]
    },
    {
      "cell_type": "code",
      "metadata": {
        "id": "l_1xG3D6gREF",
        "colab_type": "code",
        "colab": {}
      },
      "source": [
        "import os\n",
        "import shutil\n",
        "\n",
        "os.chdir(\"content\")\n",
        "shutil.rmtree('./LegoSortingRecognition')"
      ],
      "execution_count": 0,
      "outputs": []
    },
    {
      "cell_type": "code",
      "metadata": {
        "id": "-KJBPrjG-vn3",
        "colab_type": "code",
        "colab": {}
      },
      "source": [
        "# num_classes = 20\n",
        "# num_of_epochs = 50\n",
        "# input_size = 224\n",
        "\n",
        "# model = VGGFactory.create_model(1, num_classes)\n",
        "# for name, param in model.named_parameters():\n",
        "#     if param.requires_grad:\n",
        "#         print(name)\n",
        "\n",
        "# print()\n",
        "\n",
        "# simple_model = VGGFactory.simplify_model(model)\n",
        "# for name, param in simple_model.named_parameters():\n",
        "#     if param.requires_grad:\n",
        "#         print(name)\n",
        "\n",
        "# print(\"Initializing Datasets and Dataloaders...\")\n",
        "# dataloaders_dict = load_data(data_dir, input_size, 0.3, 0.1, 0.1)\n",
        "\n",
        "# params_to_update = model.parameters()\n",
        "# print(\"Params to learn:\")\n",
        "# params_to_update = []\n",
        "# for name, param in model.named_parameters():\n",
        "#     if param.requires_grad:\n",
        "#         params_to_update.append(param)\n",
        "#         print(\"\\t\", name)\n",
        "\n",
        "# optimizer_ft = optim.SGD(params_to_update, lr=0.001, momentum=0.9)\n",
        "\n",
        "# # Setup the loss fxn\n",
        "# criterion = nn.CrossEntropyLoss()\n",
        "\n",
        "# # Detect if we have a GPU available\n",
        "# device = torch.device(\"cuda:0\" if torch.cuda.is_available() else \"cpu\")\n",
        "\n",
        "# # Necessary to run script on Windows\n",
        "# torch.cuda.current_device()\n",
        "\n",
        "# # Train and evaluate\n",
        "# model_ft, hist = train_model(model, dataloaders_dict, criterion, optimizer_ft, device, num_epochs=num_of_epochs)\n",
        "\n",
        "# # Save trained model\n",
        "# utils.save_model(model_ft, \"./models\")\n"
      ],
      "execution_count": 0,
      "outputs": []
    }
  ]
}