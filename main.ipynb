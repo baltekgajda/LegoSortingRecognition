{
 "cells": [
  {
   "cell_type": "code",
   "execution_count": null,
   "metadata": {},
   "outputs": [],
   "source": [
    "is_colab_env = False # Set this to true when running on Google Colab"
   ]
  },
  {
   "cell_type": "code",
   "execution_count": null,
   "metadata": {},
   "outputs": [],
   "source": [
    "if is_colab_env:\n",
    "    !git clone https://github.com/baltekgajda/LegoSortingRecognition.git"
   ]
  },
  {
   "cell_type": "code",
   "execution_count": null,
   "metadata": {},
   "outputs": [],
   "source": [
    "if is_colab_env:\n",
    "    # Install newer version of Pytorch\n",
    "    !pip3 install https://download.pytorch.org/whl/cu100/torch-1.1.0-cp36-cp36m-linux_x86_64.whl\n",
    "    !pip3 install https://download.pytorch.org/whl/cu100/torchvision-0.3.0-cp36-cp36m-linux_x86_64.whl"
   ]
  },
  {
   "cell_type": "code",
   "execution_count": null,
   "metadata": {},
   "outputs": [],
   "source": [
    "# Import necessary libraries\n",
    "from __future__ import print_function\n",
    "from __future__ import division\n",
    "from google.colab import drive\n",
    "import torch\n",
    "import torch.nn as nn\n",
    "import torch.optim as optim\n",
    "import utils\n",
    "\n",
    "from data_loader import load_data\n",
    "from feature_extraction import initialize_model, train_model\n",
    "import VGGFactory"
   ]
  },
  {
   "cell_type": "code",
   "execution_count": null,
   "metadata": {},
   "outputs": [],
   "source": [
    "# Setup constants\n",
    "model_name = 'VGG'\n",
    "data_dir_local = './data/Base Images'\n",
    "data_dir_colab = '/content/drive/My Drive/Studia/SNR/lego/'\n",
    "num_classes = 20\n",
    "num_of_epochs = 50\n",
    "input_size = 224"
   ]
  },
  {
   "cell_type": "code",
   "execution_count": null,
   "metadata": {},
   "outputs": [],
   "source": [
    "def setup_data_dir(is_colab_env, data_dir_local, data_dir_colab):\n",
    "    if is_colab_env:\n",
    "        drive.mount('/content/drive')\n",
    "        data_dir = data_dir_colab\n",
    "    else:\n",
    "        data_dir = data_dir_local\n",
    "    \n",
    "    return data_dir\n",
    "\n",
    "data_dir = setup_data_dir(is_colab_env, './data/Base Images', '/content/drive/My Drive/Studia/SNR/lego/')"
   ]
  },
  {
   "cell_type": "code",
   "execution_count": null,
   "metadata": {},
   "outputs": [],
   "source": [
    "num_classes = 20\n",
    "num_of_epochs = 50\n",
    "input_size = 224\n",
    "\n",
    "model = VGGFactory.create_model(1, num_classes)\n",
    "for name, param in model.named_parameters():\n",
    "    if param.requires_grad:\n",
    "        print(name)\n",
    "\n",
    "print()\n",
    "\n",
    "simple_model = VGGFactory.simplify_model(model)\n",
    "for name, param in simple_model.named_parameters():\n",
    "    if param.requires_grad:\n",
    "        print(name)\n",
    "\n",
    "print(\"Initializing Datasets and Dataloaders...\")\n",
    "dataloaders_dict = load_data(data_dir, input_size, 0.3, 0.1, 0.1)\n",
    "\n",
    "params_to_update = model.parameters()\n",
    "print(\"Params to learn:\")\n",
    "params_to_update = []\n",
    "for name, param in model.named_parameters():\n",
    "    if param.requires_grad:\n",
    "        params_to_update.append(param)\n",
    "        print(\"\\t\", name)\n",
    "\n",
    "optimizer_ft = optim.SGD(params_to_update, lr=0.001, momentum=0.9)\n",
    "\n",
    "# Setup the loss fxn\n",
    "criterion = nn.CrossEntropyLoss()\n",
    "\n",
    "# Detect if we have a GPU available\n",
    "device = torch.device(\"cuda:0\" if torch.cuda.is_available() else \"cpu\")\n",
    "\n",
    "# Necessary to run script on Windows\n",
    "torch.cuda.current_device()\n",
    "\n",
    "# Train and evaluate\n",
    "model_ft, hist = train_model(model, dataloaders_dict, criterion, optimizer_ft, device, num_epochs=num_of_epochs)\n",
    "\n",
    "# Save trained model\n",
    "utils.save_model(model_ft, \"./models\")\n"
   ]
  }
 ],
 "metadata": {
  "kernelspec": {
   "display_name": "Python 3",
   "language": "python",
   "name": "python3"
  },
  "language_info": {
   "codemirror_mode": {
    "name": "ipython",
    "version": 3
   },
   "file_extension": ".py",
   "mimetype": "text/x-python",
   "name": "python",
   "nbconvert_exporter": "python",
   "pygments_lexer": "ipython3",
   "version": "3.7.3"
  }
 },
 "nbformat": 4,
 "nbformat_minor": 2
}
