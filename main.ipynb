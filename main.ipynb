{
  "nbformat": 4,
  "nbformat_minor": 0,
  "metadata": {
    "colab": {
      "name": "main.ipynb",
      "version": "0.3.2",
      "provenance": [],
      "collapsed_sections": []
    },
    "language_info": {
      "codemirror_mode": {
        "name": "ipython",
        "version": 3
      },
      "file_extension": ".py",
      "mimetype": "text/x-python",
      "name": "python",
      "nbconvert_exporter": "python",
      "pygments_lexer": "ipython3",
      "version": "3.7.3"
    },
    "kernelspec": {
      "name": "python3",
      "display_name": "Python 3"
    },
    "accelerator": "GPU"
  },
  "cells": [
    {
      "cell_type": "code",
      "metadata": {
        "id": "pr2oN5j7-vnq",
        "colab_type": "code",
        "outputId": "91833553-880d-4b61-c15f-9e5fb3aa53c3",
        "colab": {
          "base_uri": "https://localhost:8080/",
          "height": 346
        }
      },
      "source": [
        "# Install newer version of Pytorch\n",
        "!pip3 install https://download.pytorch.org/whl/cu100/torch-1.1.0-cp36-cp36m-linux_x86_64.whl\n",
        "!pip3 install https://download.pytorch.org/whl/cu100/torchvision-0.3.0-cp36-cp36m-linux_x86_64.whl\n",
        "\n",
        "# Cloning ONLY colab-integration branch\n",
        "from getpass import getpass\n",
        "import os\n",
        "\n",
        "user = getpass('Github user')\n",
        "password = getpass('Githyb password')\n",
        "os.environ['GITHUB_AUTH'] = user + ':' + password\n",
        "!git clone -b colab-integration --single-branch \"https://$GITHUB_AUTH@github.com/baltekgajda/LegoSortingRecognition.git\"\n",
        "\n",
        "# Navigate to project folder\n",
        "os.chdir(\"./LegoSortingRecognition\")\n",
        "\n",
        "# Create dir for models and results\n",
        "!mkdir models\n"
      ],
      "execution_count": 4,
      "outputs": [
        {
          "output_type": "stream",
          "text": [
            "Requirement already satisfied: torch==1.1.0 from https://download.pytorch.org/whl/cu100/torch-1.1.0-cp36-cp36m-linux_x86_64.whl in /usr/local/lib/python3.6/dist-packages (1.1.0)\n",
            "Requirement already satisfied: numpy in /usr/local/lib/python3.6/dist-packages (from torch==1.1.0) (1.16.4)\n",
            "Requirement already satisfied: torchvision==0.3.0 from https://download.pytorch.org/whl/cu100/torchvision-0.3.0-cp36-cp36m-linux_x86_64.whl in /usr/local/lib/python3.6/dist-packages (0.3.0)\n",
            "Requirement already satisfied: pillow>=4.1.1 in /usr/local/lib/python3.6/dist-packages (from torchvision==0.3.0) (4.3.0)\n",
            "Requirement already satisfied: torch>=1.1.0 in /usr/local/lib/python3.6/dist-packages (from torchvision==0.3.0) (1.1.0)\n",
            "Requirement already satisfied: six in /usr/local/lib/python3.6/dist-packages (from torchvision==0.3.0) (1.12.0)\n",
            "Requirement already satisfied: numpy in /usr/local/lib/python3.6/dist-packages (from torchvision==0.3.0) (1.16.4)\n",
            "Requirement already satisfied: olefile in /usr/local/lib/python3.6/dist-packages (from pillow>=4.1.1->torchvision==0.3.0) (0.46)\n",
            "Github user··········\n",
            "Githyb password··········\n",
            "Cloning into 'LegoSortingRecognition'...\n",
            "remote: Enumerating objects: 173, done.\u001b[K\n",
            "remote: Counting objects: 100% (173/173), done.\u001b[K\n",
            "remote: Compressing objects: 100% (119/119), done.\u001b[K\n",
            "remote: Total 173 (delta 91), reused 118 (delta 47), pack-reused 0\u001b[K\n",
            "Receiving objects: 100% (173/173), 53.70 KiB | 7.67 MiB/s, done.\n",
            "Resolving deltas: 100% (91/91), done.\n"
          ],
          "name": "stdout"
        }
      ]
    },
    {
      "cell_type": "code",
      "metadata": {
        "id": "bzrhtQ49-vns",
        "colab_type": "code",
        "colab": {}
      },
      "source": [
        "# Import necessary libraries\n",
        "from __future__ import print_function\n",
        "from __future__ import division\n",
        "from google.colab import drive\n",
        "import numpy as np\n",
        "from torchsummary import summary\n",
        "import torch\n",
        "import torch.nn as nn\n",
        "import torch.optim as optim\n",
        "import json\n",
        "\n",
        "from data_loader import load_data\n",
        "from feature_extraction import train_classifier_only, train_classifier_and_last_conv, train_full_net, train_simplified_net\n",
        "from net_test_and_metrics import test_network\n",
        "from svm_classification import train_model_with_svm\n",
        "import VGGFactory"
      ],
      "execution_count": 0,
      "outputs": []
    },
    {
      "cell_type": "code",
      "metadata": {
        "id": "4UVRh8J0-vn1",
        "colab_type": "code",
        "outputId": "c80870a1-a8c6-436b-9979-c7ffcfc945f3",
        "colab": {
          "base_uri": "https://localhost:8080/",
          "height": 54
        }
      },
      "source": [
        "# Mount Google Drive to access data\n",
        "drive.mount('/content/drive')"
      ],
      "execution_count": 0,
      "outputs": [
        {
          "output_type": "stream",
          "text": [
            "Drive already mounted at /content/drive; to attempt to forcibly remount, call drive.mount(\"/content/drive\", force_remount=True).\n"
          ],
          "name": "stdout"
        }
      ]
    },
    {
      "cell_type": "code",
      "metadata": {
        "id": "2GLsiVlbIoZb",
        "colab_type": "code",
        "colab": {}
      },
      "source": [
        "def save_to_json(variable, results_folder, file_name):\n",
        "  as_json = json.dumps(variable)\n",
        "  f = open(RESULTS_FOLDER + file_name,\"w\")\n",
        "  f.write(as_json)\n",
        "  f.close()"
      ],
      "execution_count": 0,
      "outputs": []
    },
    {
      "cell_type": "code",
      "metadata": {
        "id": "yhJnaYtm3tka",
        "colab_type": "code",
        "colab": {}
      },
      "source": [
        "def save_to_csv(variable, results_folder, file_name):\n",
        "    np.savetxt(results_folder + file_name, variable, delimiter=',')"
      ],
      "execution_count": 0,
      "outputs": []
    },
    {
      "cell_type": "code",
      "metadata": {
        "id": "aHtXpphgDH5v",
        "colab_type": "code",
        "outputId": "0f4a23cc-28e7-4e12-cd52-dbc460ba1df6",
        "colab": {
          "base_uri": "https://localhost:8080/",
          "height": 1010
        }
      },
      "source": [
        "NUM_OF_CLASSES = 20\n",
        "NUM_OF_EPOCHS = 50\n",
        "INPUT_SIZE = 224\n",
        "DATA_DIR = '/content/drive/My Drive/Studia/SNR/lego/'\n",
        "MODELS_FOLDER = '/content/drive/My Drive/Studia/SNR/models/'\n",
        "RESULTS_FOLDER = '/content/drive/My Drive/Studia/SNR/results/'\n",
        "\n",
        "print(\"Initializing Datasets and Dataloaders...\")\n",
        "dataloaders_dict = load_data(DATA_DIR, INPUT_SIZE, batch_size=4, num_workers=4)\n",
        "\n",
        "\n",
        "if (torch.cuda.is_available() == False):\n",
        "  raise RuntimeError(\"GPU is not available!\")   \n",
        "device = torch.device(\"cuda:0\")\n",
        "\n",
        "torch.cuda.current_device()\n",
        "\n",
        "\n",
        "model, hist_classifier, test_hist  = train_full_net(dataloaders_dict, MODELS_FOLDER, device, num_of_classes=NUM_OF_CLASSES, num_of_epochs=NUM_OF_EPOCHS)\n",
        "metrics = test_network(model, dataloaders_dict['test'], NUM_OF_CLASSES, device, plot_name='cmc')\n",
        "save_to_json(test_hist, RESULTS_FOLDER, \"test_hist_on_full_net.json\")\n",
        "save_to_json(hist_classifier, RESULTS_FOLDER, \"hist_on_full_net.json\")\n",
        "save_to_json(metrics, RESULTS_FOLDER, \"metrics_on_full_net.json\")\n",
        "\n",
        "m_simplified, hist_classifier, test_hist  = train_simplified_net(model, dataloaders_dict, MODELS_FOLDER, device, num_of_epochs=NUM_OF_EPOCHS)\n",
        "metrics = test_network(m_simplified, dataloaders_dict['test'], NUM_OF_CLASSES, device, plot_name='cmc')\n",
        "save_to_json(test_hist, RESULTS_FOLDER, \"test_hist_simplified.json\")\n",
        "save_to_json(hist_classifier, RESULTS_FOLDER, \"hist_simplified.json\")\n",
        "save_to_json(metrics, RESULTS_FOLDER, \"metrics_simplified.json\")\n",
        "\n",
        "model, hist_classifier, test_hist = train_classifier_only(dataloaders_dict, MODELS_FOLDER, device, num_of_classes=NUM_OF_CLASSES, num_of_epochs=NUM_OF_EPOCHS)\n",
        "metrics = test_network(model, dataloaders_dict['test'], NUM_OF_CLASSES, device, plot_name='cmc')\n",
        "save_to_json(test_hist, RESULTS_FOLDER, \"test_hist_classifier.json\")\n",
        "save_to_json(hist_classifier, RESULTS_FOLDER, \"hist_classifier.json\")\n",
        "save_to_json(metrics, RESULTS_FOLDER, \"metrics_classifier.json\")\n",
        "\n",
        "model, hist_classifier, test_hist  = train_classifier_and_last_conv(dataloaders_dict, MODELS_FOLDER, device, num_of_classes=NUM_OF_CLASSES, num_of_epochs=NUM_OF_EPOCHS)\n",
        "metrics = test_network(model, dataloaders_dict['test'], NUM_OF_CLASSES, device, plot_name='cmc')\n",
        "save_to_json(test_hist, RESULTS_FOLDER, \"test_hist_hist_last_conv.json\")\n",
        "save_to_json(hist_classifier, RESULTS_FOLDER, \"hist_last_conv.json\")\n",
        "save_to_json(metrics, RESULTS_FOLDER, \"metrics_last_conv.json\")\n",
        "\n",
        "svm_model = train_model_with_svm(m_simplified, dataloaders_dict, kernel='l')\n",
        "metrics = test_network(m_simplified, dataloaders_dict['test'], NUM_OF_CLASSES, device, plot_name='cmc', svm_classifier=svm_model)\n",
        "save_to_json(metrics, RESULTS_FOLDER, \"metrics_linear_svm.json\")\n",
        "\n",
        "svm_model = train_model_with_svm(m_simplified, dataloaders_dict, kernel='q')\n",
        "metrics = test_network(m_simplified, dataloaders_dict['test'], NUM_OF_CLASSES, device, plot_name='cmc', svm_classifier=svm_model)\n",
        "save_to_json(metrics, RESULTS_FOLDER, \"metrics_quadratic_svm.json\")\n",
        "\n",
        "svm_model  = train_model_with_svm(m_simplified, dataloaders_dict, kernel='e')\n",
        "metrics = test_network(m_simplified, dataloaders_dict['test'], NUM_OF_CLASSES, device, plot_name='cmc', svm_classifier=svm_model)\n",
        "save_to_json(metrics, RESULTS_FOLDER, \"metrics_exponential_svm.json\")\n",
        "\n",
        "# m_classifier, hist_classifier = train_classifier_only(dataloaders_dict, MODELS_FOLDER, device, num_of_classes=NUM_OF_CLASSES, num_of_epochs=NUM_OF_EPOCHS)\n",
        "# metrics_classifier = test_network(m_classifier, dataloaders_dict['test'], device, plot_name='cmc')\n",
        "# save_to_json(hist_classifier, RESULTS_FOLDER, \"hist_classifier.json\")\n",
        "# save_to_json(metrics_classifier, RESULTS_FOLDER, \"metrics_classifier.json\")\n",
        "\n",
        "# m_last_conv, hist_last_conv = train_classifier_and_last_conv(dataloaders_dict, MODELS_FOLDER, device, num_of_classes=NUM_OF_CLASSES, num_of_epochs=NUM_OF_EPOCHS)\n",
        "# metrics_last_conv = test_network(m_last_conv, dataloaders_dict['test'], device, plot_name='cmc')\n",
        "# save_to_json(hist_last_conv, RESULTS_FOLDER, \"hist_last_conv.json\")\n",
        "# save_to_json(metrics_last_conv, RESULTS_FOLDER, \"metrics_last_conv.json\")\n",
        "\n",
        "# m_on_full_net, hist_on_full_net = train_full_net(dataloaders_dict, MODELS_FOLDER, device, num_of_classes=NUM_OF_CLASSES, num_of_epochs=NUM_OF_EPOCHS)\n",
        "# metrics_on_full_net = test_network(m_on_full_net, dataloaders_dict['test'], device, plot_name='cmc')\n",
        "# save_to_json(hist_on_full_net, RESULTS_FOLDER, \"hist_on_full_net.json\")\n",
        "# save_to_json(metrics_on_full_net, RESULTS_FOLDER, \"metrics_on_full_net.json\")\n",
        "\n",
        "# m_simplified, hist_simplified = train_simplified_net(model_on_full_net, dataloaders_dict, MODELS_FOLDER, device, num_of_classes=NUM_OF_CLASSES, num_of_epochs=NUM_OF_EPOCHS)\n",
        "# metrics_simplified_net = test_network(m_simplified, dataloaders_dict['test'], device, plot_name='cmc')\n",
        "# save_to_json(hist_simplified, RESULTS_FOLDER, \"hist_simplified.json\")\n",
        "# save_to_json(metrics_on_full_net, RESULTS_FOLDER, \"metrics_on_full_net.json\")"
      ],
      "execution_count": 8,
      "outputs": [
        {
          "output_type": "stream",
          "text": [
            "Initializing Datasets and Dataloaders...\n",
            "Epoch 0/0\n",
            "----------\n",
            "train Loss: 2.9962 Acc: 0.0312\n",
            "val Loss: 2.9958 Acc: 0.1111\n",
            "\n",
            "Training complete in 0m 3s\n",
            "Best val Acc: 0.111111\n",
            "Epoch 0/0\n",
            "----------\n",
            "train Loss: 2.9976 Acc: 0.0000\n",
            "val Loss: 2.9964 Acc: 0.0000\n",
            "\n",
            "Training complete in 0m 2s\n",
            "Best val Acc: 0.000000\n",
            "Epoch 0/0\n",
            "----------\n",
            "train Loss: 2.9958 Acc: 0.0000\n",
            "val Loss: 2.9944 Acc: 0.1111\n",
            "\n",
            "Training complete in 0m 2s\n",
            "Best val Acc: 0.111111\n",
            "Epoch 0/0\n",
            "----------\n",
            "train Loss: 2.9967 Acc: 0.0312\n",
            "val Loss: 2.9955 Acc: 0.1111\n",
            "\n",
            "Training complete in 0m 2s\n",
            "Best val Acc: 0.111111\n",
            "SVM val Acc: 0.2222\n",
            "SVM training complete in 0m 15s\n"
          ],
          "name": "stdout"
        },
        {
          "output_type": "stream",
          "text": [
            "/usr/local/lib/python3.6/dist-packages/sklearn/svm/base.py:193: FutureWarning: The default value of gamma will change from 'auto' to 'scale' in version 0.22 to account better for unscaled features. Set gamma explicitly to 'auto' or 'scale' to avoid this warning.\n",
            "  \"avoid this warning.\", FutureWarning)\n"
          ],
          "name": "stderr"
        },
        {
          "output_type": "stream",
          "text": [
            "SVM val Acc: 0.2222\n",
            "SVM training complete in 0m 14s\n"
          ],
          "name": "stdout"
        },
        {
          "output_type": "stream",
          "text": [
            "/usr/local/lib/python3.6/dist-packages/sklearn/svm/base.py:193: FutureWarning: The default value of gamma will change from 'auto' to 'scale' in version 0.22 to account better for unscaled features. Set gamma explicitly to 'auto' or 'scale' to avoid this warning.\n",
            "  \"avoid this warning.\", FutureWarning)\n"
          ],
          "name": "stderr"
        },
        {
          "output_type": "stream",
          "text": [
            "SVM val Acc: 0.2222\n",
            "SVM training complete in 0m 14s\n"
          ],
          "name": "stdout"
        },
        {
          "output_type": "display_data",
          "data": {
            "image/png": "[encoded data removed]",
            "text/plain": [
              "<Figure size 432x288 with 1 Axes>"
            ]
          },
          "metadata": {
            "tags": []
          }
        }
      ]
    },
    {
      "cell_type": "code",
      "metadata": {
        "id": "l_1xG3D6gREF",
        "colab_type": "code",
        "colab": {}
      },
      "source": [
        "import os\n",
        "import shutil\n",
        "\n",
        "os.chdir(\"/content\")\n",
        "shutil.rmtree('./LegoSortingRecognition')"
      ],
      "execution_count": 0,
      "outputs": []
    },
    {
      "cell_type": "code",
      "metadata": {
        "id": "-KJBPrjG-vn3",
        "colab_type": "code",
        "colab": {}
      },
      "source": [
        "# num_classes = 20\n",
        "# num_of_epochs = 50\n",
        "# input_size = 224\n",
        "\n",
        "# model = VGGFactory.create_model(1, num_classes)\n",
        "# for name, param in model.named_parameters():\n",
        "#     if param.requires_grad:\n",
        "#         print(name)\n",
        "\n",
        "# print()\n",
        "\n",
        "# simple_model = VGGFactory.simplify_model(model)\n",
        "# for name, param in simple_model.named_parameters():\n",
        "#     if param.requires_grad:\n",
        "#         print(name)\n",
        "\n",
        "# print(\"Initializing Datasets and Dataloaders...\")\n",
        "# dataloaders_dict = load_data(data_dir, input_size, 0.3, 0.1, 0.1)\n",
        "\n",
        "# params_to_update = model.parameters()\n",
        "# print(\"Params to learn:\")\n",
        "# params_to_update = []\n",
        "# for name, param in model.named_parameters():\n",
        "#     if param.requires_grad:\n",
        "#         params_to_update.append(param)\n",
        "#         print(\"\\t\", name)\n",
        "\n",
        "# optimizer_ft = optim.SGD(params_to_update, lr=0.001, momentum=0.9)\n",
        "\n",
        "# # Setup the loss fxn\n",
        "# criterion = nn.CrossEntropyLoss()\n",
        "\n",
        "# # Detect if we have a GPU available\n",
        "# device = torch.device(\"cuda:0\" if torch.cuda.is_available() else \"cpu\")\n",
        "\n",
        "# # Necessary to run script on Windows\n",
        "# torch.cuda.current_device()\n",
        "\n",
        "# # Train and evaluate\n",
        "# model_ft, hist = train_model(model, dataloaders_dict, criterion, optimizer_ft, device, num_epochs=num_of_epochs)\n",
        "\n",
        "# # Save trained model\n",
        "# utils.save_model(model_ft, \"./models\")\n"
      ],
      "execution_count": 0,
      "outputs": []
    }
  ]
}